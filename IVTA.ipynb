{
  "nbformat": 4,
  "nbformat_minor": 0,
  "metadata": {
    "colab": {
      "name": "IVTA.ipynb",
      "provenance": [],
      "collapsed_sections": []
    },
    "kernelspec": {
      "name": "ir",
      "display_name": "R"
    },
    "language_info": {
      "name": "R"
    }
  },
  "cells": [
    {
      "cell_type": "markdown",
      "metadata": {
        "id": "ct61YSBK2yAS"
      },
      "source": [
        "# **Packages**"
      ]
    },
    {
      "cell_type": "code",
      "metadata": {
        "id": "La9YyV8tqVf3"
      },
      "source": [
        "install.packages('leaps')\n",
        "library('leaps')\n",
        "install.packages('car')\n",
        "library('car')\n",
        "install.packages('glmnet')\n",
        "library('glmnet')"
      ],
      "execution_count": null,
      "outputs": []
    },
    {
      "cell_type": "markdown",
      "metadata": {
        "id": "lHSCyPZbtoYp"
      },
      "source": [
        "# **Data reading and pre-processing**"
      ]
    },
    {
      "cell_type": "code",
      "metadata": {
        "id": "f2Wv4bdQtbtb"
      },
      "source": [
        "dat<-read.csv(paste0(\"https://docs.google.com/uc?id=\",\"1qlL1-ddLYaNhqPvyYB9_pTCXf4gAJuvx\",\"&export=download\"),header=T)\n",
        "\n",
        "towork=as.numeric(dat$BCVA.preop)-as.numeric(dat$BCVA.6.months) #working data\n",
        "age=as.numeric(dat$Age)\n",
        "ivta=dat$IVTA\n",
        "sex=dat$Sex\n",
        "sor=NULL\n",
        "pvr=NULL\n",
        "for (i in 1:nrow(dat))\n",
        "{\n",
        "  if ((dat$SOR[i] == \"done\") || (dat$SOR[i]) == \"Done\")\n",
        "    sor=c(sor,\"Yes\")\n",
        "  else\n",
        "    sor=c(sor,\"No\")\n",
        "  if (dat$PVR[i]==\"    360 degree IRC\"||dat$PVR[i]==\"360 degree IRC\")\n",
        "    pvr=c(pvr,\"360 degree IRC\")\n",
        "  else\n",
        "  {\n",
        "    if (dat$PVR[i]==\"PVR D3\"||dat$PVR[i]==\"PVRD3\")\n",
        "      pvr=c(pvr,\"PVR D3\")\n",
        "    else\n",
        "      pvr=c(pvr,dat$PVR[i])\n",
        "  }\n",
        "}\n",
        "nct=as.numeric(dat$IOP)\n",
        "rrd = as.numeric((dat$Complication==\"Recurrent RD\")) + as.numeric((dat$Complication==\"Recurrent  RD\")) + as.numeric((dat$Complication==\"Rec RD\"))"
      ],
      "execution_count": null,
      "outputs": []
    },
    {
      "cell_type": "markdown",
      "metadata": {
        "id": "m3b2Xnsg28h1"
      },
      "source": [
        "# **Non-parametric Tests of Significance and Selection Bias**"
      ]
    },
    {
      "cell_type": "markdown",
      "metadata": {
        "id": "QeHsbj1c01qB"
      },
      "source": [
        "**Wilcoxon Rank Sum Test**\n",
        "\n",
        "For testing significant decrease due to IVTA"
      ]
    },
    {
      "cell_type": "code",
      "metadata": {
        "colab": {
          "base_uri": "https://localhost:8080/",
          "height": 151
        },
        "id": "pU2ypDCi19er",
        "outputId": "7b2fe11c-1029-4c62-cb42-1c29aed55ba8"
      },
      "source": [
        "wilcox.test(towork[1:17],towork[18:35],paired = F, alternative = \"less\")"
      ],
      "execution_count": null,
      "outputs": [
        {
          "output_type": "stream",
          "name": "stderr",
          "text": [
            "Warning message in wilcox.test.default(towork[1:17], towork[18:35], paired = F, :\n",
            "“cannot compute exact p-value with ties”\n"
          ]
        },
        {
          "output_type": "display_data",
          "data": {
            "text/plain": [
              "\n",
              "\tWilcoxon rank sum test with continuity correction\n",
              "\n",
              "data:  towork[1:17] and towork[18:35]\n",
              "W = 87.5, p-value = 0.01477\n",
              "alternative hypothesis: true location shift is less than 0\n"
            ]
          },
          "metadata": {}
        }
      ]
    },
    {
      "cell_type": "markdown",
      "metadata": {
        "id": "J6MwKhld2NDq"
      },
      "source": [
        "**Permutation Tests** (to determine selection bias)\n",
        "\n",
        "From Results using a C++ code,\n",
        "\n",
        "*Age*: \n",
        "$$\\text{p-value}=0.757255$$\n",
        "*NCT*: \n",
        "$$\\text{p-value}=0.63711$$"
      ]
    },
    {
      "cell_type": "markdown",
      "metadata": {
        "id": "5n-25pSamdTg"
      },
      "source": [
        "#**Whether PVR classification has any significance**"
      ]
    },
    {
      "cell_type": "code",
      "metadata": {
        "id": "07YmmSJtmoTo",
        "colab": {
          "base_uri": "https://localhost:8080/",
          "height": 161
        },
        "outputId": "ec42e1fd-e4c4-4c85-b794-c05c60ff41aa"
      },
      "source": [
        "fit = lm(towork~pvr)\n",
        "anova(fit)"
      ],
      "execution_count": null,
      "outputs": [
        {
          "output_type": "display_data",
          "data": {
            "text/plain": [
              "          Df Sum Sq     Mean Sq   F value   Pr(>F)  \n",
              "pvr        3  0.7663463 0.2554488 0.3939545 0.758215\n",
              "Residuals 31 20.1010823 0.6484220        NA       NA"
            ],
            "text/latex": "A anova: 2 × 5\n\\begin{tabular}{r|lllll}\n  & Df & Sum Sq & Mean Sq & F value & Pr(>F)\\\\\n  & <int> & <dbl> & <dbl> & <dbl> & <dbl>\\\\\n\\hline\n\tpvr &  3 &  0.7663463 & 0.2554488 & 0.3939545 & 0.758215\\\\\n\tResiduals & 31 & 20.1010823 & 0.6484220 &        NA &       NA\\\\\n\\end{tabular}\n",
            "text/markdown": "\nA anova: 2 × 5\n\n| <!--/--> | Df &lt;int&gt; | Sum Sq &lt;dbl&gt; | Mean Sq &lt;dbl&gt; | F value &lt;dbl&gt; | Pr(&gt;F) &lt;dbl&gt; |\n|---|---|---|---|---|---|\n| pvr |  3 |  0.7663463 | 0.2554488 | 0.3939545 | 0.758215 |\n| Residuals | 31 | 20.1010823 | 0.6484220 |        NA |       NA |\n\n",
            "text/html": [
              "<table class=\"dataframe\">\n",
              "<caption>A anova: 2 × 5</caption>\n",
              "<thead>\n",
              "\t<tr><th></th><th scope=col>Df</th><th scope=col>Sum Sq</th><th scope=col>Mean Sq</th><th scope=col>F value</th><th scope=col>Pr(&gt;F)</th></tr>\n",
              "\t<tr><th></th><th scope=col>&lt;int&gt;</th><th scope=col>&lt;dbl&gt;</th><th scope=col>&lt;dbl&gt;</th><th scope=col>&lt;dbl&gt;</th><th scope=col>&lt;dbl&gt;</th></tr>\n",
              "</thead>\n",
              "<tbody>\n",
              "\t<tr><th scope=row>pvr</th><td> 3</td><td> 0.7663463</td><td>0.2554488</td><td>0.3939545</td><td>0.758215</td></tr>\n",
              "\t<tr><th scope=row>Residuals</th><td>31</td><td>20.1010823</td><td>0.6484220</td><td>       NA</td><td>      NA</td></tr>\n",
              "</tbody>\n",
              "</table>\n"
            ]
          },
          "metadata": {}
        }
      ]
    },
    {
      "cell_type": "markdown",
      "metadata": {
        "id": "zrkwaIw8m3FQ"
      },
      "source": [
        "Thus, the PVR classification has no effect on the response."
      ]
    },
    {
      "cell_type": "markdown",
      "metadata": {
        "id": "9lq1JG3Yu6IP"
      },
      "source": [
        "# **Modelling Response**"
      ]
    },
    {
      "cell_type": "markdown",
      "metadata": {
        "id": "0CJGIeXe3tvG"
      },
      "source": [
        "**Best Subset Regression**"
      ]
    },
    {
      "cell_type": "code",
      "metadata": {
        "colab": {
          "base_uri": "https://localhost:8080/",
          "height": 609
        },
        "id": "e1dhjYdG2JI5",
        "outputId": "102f2773-daba-4964-f64b-da7cba6897e1"
      },
      "source": [
        "mydat = data.frame(towork, ivta, age, nct)\n",
        "b_mod=regsubsets(towork~.,data = mydat,nbest = 2)\n",
        "#summary(b_mod)\n",
        "subsets(b_mod, statistic = \"bic\", legend = F)"
      ],
      "execution_count": null,
      "outputs": [
        {
          "output_type": "display_data",
          "data": {
            "text/plain": [
              "        Abbreviation\n",
              "ivtaYes i           \n",
              "age     a           \n",
              "nct     n           "
            ],
            "text/latex": "A data.frame: 3 × 1\n\\begin{tabular}{r|l}\n  & Abbreviation\\\\\n  & <chr>\\\\\n\\hline\n\tivtaYes & i\\\\\n\tage & a\\\\\n\tnct & n\\\\\n\\end{tabular}\n",
            "text/markdown": "\nA data.frame: 3 × 1\n\n| <!--/--> | Abbreviation &lt;chr&gt; |\n|---|---|\n| ivtaYes | i |\n| age | a |\n| nct | n |\n\n",
            "text/html": [
              "<table class=\"dataframe\">\n",
              "<caption>A data.frame: 3 × 1</caption>\n",
              "<thead>\n",
              "\t<tr><th></th><th scope=col>Abbreviation</th></tr>\n",
              "\t<tr><th></th><th scope=col>&lt;chr&gt;</th></tr>\n",
              "</thead>\n",
              "<tbody>\n",
              "\t<tr><th scope=row>ivtaYes</th><td>i</td></tr>\n",
              "\t<tr><th scope=row>age</th><td>a</td></tr>\n",
              "\t<tr><th scope=row>nct</th><td>n</td></tr>\n",
              "</tbody>\n",
              "</table>\n"
            ]
          },
          "metadata": {}
        },
        {
          "output_type": "display_data",
          "data": {
            "image/png": "[encoded data removed]",
            "text/plain": [
              "plot without title"
            ]
          },
          "metadata": {
            "image/png": {
              "width": 420,
              "height": 420
            }
          }
        }
      ]
    },
    {
      "cell_type": "markdown",
      "metadata": {
        "id": "tlOB5Fs01130"
      },
      "source": [
        "The best model is \n",
        "$$\\text{Response}\\sim \\text{IVTA}+\\text{Age}$$\n",
        "\n",
        "We shall now proceed to find the model parameters."
      ]
    },
    {
      "cell_type": "markdown",
      "metadata": {
        "id": "horlZNnq3xr6"
      },
      "source": [
        "**Model Fitting**"
      ]
    },
    {
      "cell_type": "code",
      "metadata": {
        "colab": {
          "base_uri": "https://localhost:8080/",
          "height": 336
        },
        "id": "QhQzn5wcwyqG",
        "outputId": "82825157-f3bc-45c4-e038-54d2f1295d05"
      },
      "source": [
        "fit_best = lm(towork ~ ivta + age)\n",
        "summary(fit_best)"
      ],
      "execution_count": null,
      "outputs": [
        {
          "output_type": "display_data",
          "data": {
            "text/plain": [
              "\n",
              "Call:\n",
              "lm(formula = towork ~ ivta + age)\n",
              "\n",
              "Residuals:\n",
              "    Min      1Q  Median      3Q     Max \n",
              "-1.2986 -0.4079 -0.1699  0.4891  1.1473 \n",
              "\n",
              "Coefficients:\n",
              "            Estimate Std. Error t value Pr(>|t|)  \n",
              "(Intercept) 0.111203   0.261549   0.425   0.6736  \n",
              "ivtaYes     0.488748   0.236081   2.070   0.0466 *\n",
              "age         0.011748   0.004787   2.454   0.0197 *\n",
              "---\n",
              "Signif. codes:  0 ‘***’ 0.001 ‘**’ 0.01 ‘*’ 0.05 ‘.’ 0.1 ‘ ’ 1\n",
              "\n",
              "Residual standard error: 0.6966 on 32 degrees of freedom\n",
              "Multiple R-squared:  0.2558,\tAdjusted R-squared:  0.2093 \n",
              "F-statistic: 5.499 on 2 and 32 DF,  p-value: 0.008857\n"
            ]
          },
          "metadata": {}
        }
      ]
    },
    {
      "cell_type": "markdown",
      "metadata": {
        "id": "R4WqVy-sdmYu"
      },
      "source": [
        " Final model; \n",
        " $$Response= 0.11 + (0.49\\times  1_{IVTA}) + (0.01\\times Age)$$"
      ]
    },
    {
      "cell_type": "markdown",
      "metadata": {
        "id": "8h6Qjezf31pv"
      },
      "source": [
        "# **Dependence of RRD on IVTA**"
      ]
    },
    {
      "cell_type": "code",
      "metadata": {
        "colab": {
          "base_uri": "https://localhost:8080/",
          "height": 202
        },
        "id": "XPwX7WtP2b7v",
        "outputId": "2fb4211a-50c9-4018-802d-0eb3e2d19647"
      },
      "source": [
        "fisher.test(rrd, ivta, alternative = \"two.sided\")"
      ],
      "execution_count": null,
      "outputs": [
        {
          "output_type": "display_data",
          "data": {
            "text/plain": [
              "\n",
              "\tFisher's Exact Test for Count Data\n",
              "\n",
              "data:  rrd and ivta\n",
              "p-value = 0.2285\n",
              "alternative hypothesis: true odds ratio is not equal to 1\n",
              "95 percent confidence interval:\n",
              " 0.02540224 2.30605083\n",
              "sample estimates:\n",
              "odds ratio \n",
              " 0.3104826 \n"
            ]
          },
          "metadata": {}
        }
      ]
    },
    {
      "cell_type": "markdown",
      "metadata": {
        "id": "nHNEFsVj5IMX"
      },
      "source": [
        "Seems like the prevalence of RRD is unaffected by administration of IVTA. However, the data set is too small to definitely conclude something."
      ]
    },
    {
      "cell_type": "markdown",
      "metadata": {
        "id": "dUwJs_EZ6WpR"
      },
      "source": [
        "# **Dependence of SOR on IVTA**"
      ]
    },
    {
      "cell_type": "code",
      "metadata": {
        "colab": {
          "base_uri": "https://localhost:8080/",
          "height": 202
        },
        "id": "SE-MeqHh5Gii",
        "outputId": "6f115987-6e48-4dca-b55e-3a8510a654ba"
      },
      "source": [
        "fisher.test(sor, ivta, alternative = \"two.sided\")"
      ],
      "execution_count": null,
      "outputs": [
        {
          "output_type": "display_data",
          "data": {
            "text/plain": [
              "\n",
              "\tFisher's Exact Test for Count Data\n",
              "\n",
              "data:  sor and ivta\n",
              "p-value = 0.01759\n",
              "alternative hypothesis: true odds ratio is not equal to 1\n",
              "95 percent confidence interval:\n",
              "  1.207593 38.264074\n",
              "sample estimates:\n",
              "odds ratio \n",
              "  6.114819 \n"
            ]
          },
          "metadata": {}
        }
      ]
    },
    {
      "cell_type": "code",
      "metadata": {
        "colab": {
          "base_uri": "https://localhost:8080/",
          "height": 202
        },
        "id": "wx7Y_KK46mz9",
        "outputId": "db3b7d3d-520e-4d0e-a4b4-c37e7bd2a9bd"
      },
      "source": [
        "fisher.test(sor, ivta, alternative = \"greater\")"
      ],
      "execution_count": null,
      "outputs": [
        {
          "output_type": "display_data",
          "data": {
            "text/plain": [
              "\n",
              "\tFisher's Exact Test for Count Data\n",
              "\n",
              "data:  sor and ivta\n",
              "p-value = 0.01242\n",
              "alternative hypothesis: true odds ratio is greater than 1\n",
              "95 percent confidence interval:\n",
              " 1.49027     Inf\n",
              "sample estimates:\n",
              "odds ratio \n",
              "  6.114819 \n"
            ]
          },
          "metadata": {}
        }
      ]
    },
    {
      "cell_type": "markdown",
      "metadata": {
        "id": "wtN1gm7r7Dwp"
      },
      "source": [
        "At $5\\%$ cut-off, SOR removal is more prevalent among those who have been administered IVTA."
      ]
    }
  ]
}